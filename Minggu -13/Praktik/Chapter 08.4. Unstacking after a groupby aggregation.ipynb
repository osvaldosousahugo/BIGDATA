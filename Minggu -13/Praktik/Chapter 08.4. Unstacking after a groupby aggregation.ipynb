{
 "cells": [
  {
   "cell_type": "code",
   "execution_count": 1,
   "metadata": {},
   "outputs": [],
   "source": [
    "import pandas as pd\n",
    "import numpy as np"
   ]
  },
  {
   "cell_type": "code",
   "execution_count": 2,
   "metadata": {},
   "outputs": [],
   "source": [
    "employee = pd.read_csv('data/employee.csv')"
   ]
  },
  {
   "cell_type": "code",
   "execution_count": 3,
   "metadata": {},
   "outputs": [
    {
     "data": {
      "text/plain": [
       "RACE\n",
       "American Indian or Alaskan Native    60272\n",
       "Asian/Pacific Islander               61660\n",
       "Black or African American            50137\n",
       "Hispanic/Latino                      52345\n",
       "Others                               51278\n",
       "White                                64419\n",
       "Name: BASE_SALARY, dtype: int32"
      ]
     },
     "execution_count": 3,
     "metadata": {},
     "output_type": "execute_result"
    }
   ],
   "source": [
    "employee.groupby('RACE')['BASE_SALARY'].mean().astype(int)"
   ]
  },
  {
   "cell_type": "code",
   "execution_count": 4,
   "metadata": {},
   "outputs": [
    {
     "data": {
      "text/plain": [
       "RACE                               GENDER\n",
       "American Indian or Alaskan Native  Female    60238\n",
       "                                   Male      60305\n",
       "Asian/Pacific Islander             Female    63226\n",
       "                                   Male      61033\n",
       "Black or African American          Female    48915\n",
       "                                   Male      51082\n",
       "Hispanic/Latino                    Female    46503\n",
       "                                   Male      54782\n",
       "Others                             Female    63785\n",
       "                                   Male      38771\n",
       "White                              Female    66793\n",
       "                                   Male      63940\n",
       "Name: BASE_SALARY, dtype: int32"
      ]
     },
     "execution_count": 4,
     "metadata": {},
     "output_type": "execute_result"
    }
   ],
   "source": [
    "agg = employee.groupby(['RACE', 'GENDER'])['BASE_SALARY'].mean().astype(int)\n",
    "agg"
   ]
  },
  {
   "cell_type": "code",
   "execution_count": 5,
   "metadata": {},
   "outputs": [
    {
     "data": {
      "text/html": [
       "<div>\n",
       "<style scoped>\n",
       "    .dataframe tbody tr th:only-of-type {\n",
       "        vertical-align: middle;\n",
       "    }\n",
       "\n",
       "    .dataframe tbody tr th {\n",
       "        vertical-align: top;\n",
       "    }\n",
       "\n",
       "    .dataframe thead th {\n",
       "        text-align: right;\n",
       "    }\n",
       "</style>\n",
       "<table border=\"1\" class=\"dataframe\">\n",
       "  <thead>\n",
       "    <tr style=\"text-align: right;\">\n",
       "      <th>GENDER</th>\n",
       "      <th>Female</th>\n",
       "      <th>Male</th>\n",
       "    </tr>\n",
       "    <tr>\n",
       "      <th>RACE</th>\n",
       "      <th></th>\n",
       "      <th></th>\n",
       "    </tr>\n",
       "  </thead>\n",
       "  <tbody>\n",
       "    <tr>\n",
       "      <th>American Indian or Alaskan Native</th>\n",
       "      <td>60238</td>\n",
       "      <td>60305</td>\n",
       "    </tr>\n",
       "    <tr>\n",
       "      <th>Asian/Pacific Islander</th>\n",
       "      <td>63226</td>\n",
       "      <td>61033</td>\n",
       "    </tr>\n",
       "    <tr>\n",
       "      <th>Black or African American</th>\n",
       "      <td>48915</td>\n",
       "      <td>51082</td>\n",
       "    </tr>\n",
       "    <tr>\n",
       "      <th>Hispanic/Latino</th>\n",
       "      <td>46503</td>\n",
       "      <td>54782</td>\n",
       "    </tr>\n",
       "    <tr>\n",
       "      <th>Others</th>\n",
       "      <td>63785</td>\n",
       "      <td>38771</td>\n",
       "    </tr>\n",
       "    <tr>\n",
       "      <th>White</th>\n",
       "      <td>66793</td>\n",
       "      <td>63940</td>\n",
       "    </tr>\n",
       "  </tbody>\n",
       "</table>\n",
       "</div>"
      ],
      "text/plain": [
       "GENDER                             Female   Male\n",
       "RACE                                            \n",
       "American Indian or Alaskan Native   60238  60305\n",
       "Asian/Pacific Islander              63226  61033\n",
       "Black or African American           48915  51082\n",
       "Hispanic/Latino                     46503  54782\n",
       "Others                              63785  38771\n",
       "White                               66793  63940"
      ]
     },
     "execution_count": 5,
     "metadata": {},
     "output_type": "execute_result"
    }
   ],
   "source": [
    "agg.unstack('GENDER')"
   ]
  },
  {
   "cell_type": "code",
   "execution_count": 6,
   "metadata": {},
   "outputs": [
    {
     "data": {
      "text/html": [
       "<div>\n",
       "<style scoped>\n",
       "    .dataframe tbody tr th:only-of-type {\n",
       "        vertical-align: middle;\n",
       "    }\n",
       "\n",
       "    .dataframe tbody tr th {\n",
       "        vertical-align: top;\n",
       "    }\n",
       "\n",
       "    .dataframe thead th {\n",
       "        text-align: right;\n",
       "    }\n",
       "</style>\n",
       "<table border=\"1\" class=\"dataframe\">\n",
       "  <thead>\n",
       "    <tr style=\"text-align: right;\">\n",
       "      <th>RACE</th>\n",
       "      <th>American Indian or Alaskan Native</th>\n",
       "      <th>Asian/Pacific Islander</th>\n",
       "      <th>Black or African American</th>\n",
       "      <th>Hispanic/Latino</th>\n",
       "      <th>Others</th>\n",
       "      <th>White</th>\n",
       "    </tr>\n",
       "    <tr>\n",
       "      <th>GENDER</th>\n",
       "      <th></th>\n",
       "      <th></th>\n",
       "      <th></th>\n",
       "      <th></th>\n",
       "      <th></th>\n",
       "      <th></th>\n",
       "    </tr>\n",
       "  </thead>\n",
       "  <tbody>\n",
       "    <tr>\n",
       "      <th>Female</th>\n",
       "      <td>60238</td>\n",
       "      <td>63226</td>\n",
       "      <td>48915</td>\n",
       "      <td>46503</td>\n",
       "      <td>63785</td>\n",
       "      <td>66793</td>\n",
       "    </tr>\n",
       "    <tr>\n",
       "      <th>Male</th>\n",
       "      <td>60305</td>\n",
       "      <td>61033</td>\n",
       "      <td>51082</td>\n",
       "      <td>54782</td>\n",
       "      <td>38771</td>\n",
       "      <td>63940</td>\n",
       "    </tr>\n",
       "  </tbody>\n",
       "</table>\n",
       "</div>"
      ],
      "text/plain": [
       "RACE    American Indian or Alaskan Native  Asian/Pacific Islander  \\\n",
       "GENDER                                                              \n",
       "Female                              60238                   63226   \n",
       "Male                                60305                   61033   \n",
       "\n",
       "RACE    Black or African American  Hispanic/Latino  Others  White  \n",
       "GENDER                                                             \n",
       "Female                      48915            46503   63785  66793  \n",
       "Male                        51082            54782   38771  63940  "
      ]
     },
     "execution_count": 6,
     "metadata": {},
     "output_type": "execute_result"
    }
   ],
   "source": [
    "agg.unstack('RACE')"
   ]
  },
  {
   "cell_type": "code",
   "execution_count": 7,
   "metadata": {},
   "outputs": [
    {
     "data": {
      "text/html": [
       "<div>\n",
       "<style scoped>\n",
       "    .dataframe tbody tr th:only-of-type {\n",
       "        vertical-align: middle;\n",
       "    }\n",
       "\n",
       "    .dataframe tbody tr th {\n",
       "        vertical-align: top;\n",
       "    }\n",
       "\n",
       "    .dataframe thead th {\n",
       "        text-align: right;\n",
       "    }\n",
       "</style>\n",
       "<table border=\"1\" class=\"dataframe\">\n",
       "  <thead>\n",
       "    <tr style=\"text-align: right;\">\n",
       "      <th></th>\n",
       "      <th></th>\n",
       "      <th>mean</th>\n",
       "      <th>max</th>\n",
       "      <th>min</th>\n",
       "    </tr>\n",
       "    <tr>\n",
       "      <th>RACE</th>\n",
       "      <th>GENDER</th>\n",
       "      <th></th>\n",
       "      <th></th>\n",
       "      <th></th>\n",
       "    </tr>\n",
       "  </thead>\n",
       "  <tbody>\n",
       "    <tr>\n",
       "      <th rowspan=\"2\" valign=\"top\">American Indian or Alaskan Native</th>\n",
       "      <th>Female</th>\n",
       "      <td>60238</td>\n",
       "      <td>98536</td>\n",
       "      <td>26125</td>\n",
       "    </tr>\n",
       "    <tr>\n",
       "      <th>Male</th>\n",
       "      <td>60305</td>\n",
       "      <td>81239</td>\n",
       "      <td>26125</td>\n",
       "    </tr>\n",
       "    <tr>\n",
       "      <th rowspan=\"2\" valign=\"top\">Asian/Pacific Islander</th>\n",
       "      <th>Female</th>\n",
       "      <td>63226</td>\n",
       "      <td>130416</td>\n",
       "      <td>26125</td>\n",
       "    </tr>\n",
       "    <tr>\n",
       "      <th>Male</th>\n",
       "      <td>61033</td>\n",
       "      <td>163228</td>\n",
       "      <td>27914</td>\n",
       "    </tr>\n",
       "    <tr>\n",
       "      <th rowspan=\"2\" valign=\"top\">Black or African American</th>\n",
       "      <th>Female</th>\n",
       "      <td>48915</td>\n",
       "      <td>150416</td>\n",
       "      <td>24960</td>\n",
       "    </tr>\n",
       "    <tr>\n",
       "      <th>Male</th>\n",
       "      <td>51082</td>\n",
       "      <td>275000</td>\n",
       "      <td>26125</td>\n",
       "    </tr>\n",
       "    <tr>\n",
       "      <th rowspan=\"2\" valign=\"top\">Hispanic/Latino</th>\n",
       "      <th>Female</th>\n",
       "      <td>46503</td>\n",
       "      <td>126115</td>\n",
       "      <td>26125</td>\n",
       "    </tr>\n",
       "    <tr>\n",
       "      <th>Male</th>\n",
       "      <td>54782</td>\n",
       "      <td>165216</td>\n",
       "      <td>26104</td>\n",
       "    </tr>\n",
       "    <tr>\n",
       "      <th rowspan=\"2\" valign=\"top\">Others</th>\n",
       "      <th>Female</th>\n",
       "      <td>63785</td>\n",
       "      <td>63785</td>\n",
       "      <td>63785</td>\n",
       "    </tr>\n",
       "    <tr>\n",
       "      <th>Male</th>\n",
       "      <td>38771</td>\n",
       "      <td>38771</td>\n",
       "      <td>38771</td>\n",
       "    </tr>\n",
       "    <tr>\n",
       "      <th rowspan=\"2\" valign=\"top\">White</th>\n",
       "      <th>Female</th>\n",
       "      <td>66793</td>\n",
       "      <td>178331</td>\n",
       "      <td>27955</td>\n",
       "    </tr>\n",
       "    <tr>\n",
       "      <th>Male</th>\n",
       "      <td>63940</td>\n",
       "      <td>210588</td>\n",
       "      <td>26125</td>\n",
       "    </tr>\n",
       "  </tbody>\n",
       "</table>\n",
       "</div>"
      ],
      "text/plain": [
       "                                           mean     max    min\n",
       "RACE                              GENDER                      \n",
       "American Indian or Alaskan Native Female  60238   98536  26125\n",
       "                                  Male    60305   81239  26125\n",
       "Asian/Pacific Islander            Female  63226  130416  26125\n",
       "                                  Male    61033  163228  27914\n",
       "Black or African American         Female  48915  150416  24960\n",
       "                                  Male    51082  275000  26125\n",
       "Hispanic/Latino                   Female  46503  126115  26125\n",
       "                                  Male    54782  165216  26104\n",
       "Others                            Female  63785   63785  63785\n",
       "                                  Male    38771   38771  38771\n",
       "White                             Female  66793  178331  27955\n",
       "                                  Male    63940  210588  26125"
      ]
     },
     "execution_count": 7,
     "metadata": {},
     "output_type": "execute_result"
    }
   ],
   "source": [
    "agg2 = employee.groupby(['RACE', 'GENDER'])['BASE_SALARY'].agg(['mean', 'max', 'min']).astype(int)\n",
    "agg2"
   ]
  }
 ],
 "metadata": {
  "kernelspec": {
   "display_name": "Python 3",
   "language": "python",
   "name": "python3"
  },
  "language_info": {
   "codemirror_mode": {
    "name": "ipython",
    "version": 3
   },
   "file_extension": ".py",
   "mimetype": "text/x-python",
   "name": "python",
   "nbconvert_exporter": "python",
   "pygments_lexer": "ipython3",
   "version": "3.7.0"
  }
 },
 "nbformat": 4,
 "nbformat_minor": 2
}
